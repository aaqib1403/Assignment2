{
 "cells": [
  {
   "cell_type": "markdown",
   "id": "ef9257a2",
   "metadata": {},
   "source": [
    "#### Task 1"
   ]
  },
  {
   "cell_type": "code",
   "execution_count": 1,
   "id": "ae4b97f2",
   "metadata": {},
   "outputs": [
    {
     "name": "stdout",
     "output_type": "stream",
     "text": [
      "\n",
      "*\n",
      "**\n",
      "***\n",
      "****\n",
      "*****\n",
      "****\n",
      "***\n",
      "**\n",
      "*\n"
     ]
    }
   ],
   "source": [
    "length = 5\n",
    "for i in range(0,length+1):\n",
    "    print(\"*\"*i)\n",
    "for j in range(i-1, 0, -1):\n",
    "    print(\"*\"*j)"
   ]
  },
  {
   "cell_type": "markdown",
   "id": "9cc67cbb",
   "metadata": {},
   "source": [
    "#### Task 2"
   ]
  },
  {
   "cell_type": "code",
   "execution_count": 10,
   "id": "359534ca",
   "metadata": {},
   "outputs": [
    {
     "name": "stdout",
     "output_type": "stream",
     "text": [
      "20\n",
      "40\n",
      "60\n",
      "80\n",
      "100\n"
     ]
    }
   ],
   "source": [
    "my_list = [10, 20, 30, 40, 50, 60, 70, 80, 90, 100]\n",
    "for i in range(0, len(my_list)):\n",
    "    if i%2 != 0:\n",
    "        print(my_list[i])"
   ]
  },
  {
   "cell_type": "markdown",
   "id": "7fa92a76",
   "metadata": {},
   "source": [
    "#### Task 3"
   ]
  },
  {
   "cell_type": "code",
   "execution_count": 11,
   "id": "cf840227",
   "metadata": {},
   "outputs": [
    {
     "name": "stdout",
     "output_type": "stream",
     "text": [
      "[23, 'Python', 23.98]\n",
      "[<class 'int'>, <class 'str'>, <class 'float'>]\n"
     ]
    }
   ],
   "source": [
    "x = [23, \"Python\", 23.98]\n",
    "y = []\n",
    "for i in x:\n",
    "    y.append(type(i))\n",
    "print(x)\n",
    "print(y)"
   ]
  },
  {
   "cell_type": "markdown",
   "id": "fc5a420a",
   "metadata": {},
   "source": [
    "#### Task 4"
   ]
  },
  {
   "cell_type": "code",
   "execution_count": 12,
   "id": "798b549f",
   "metadata": {},
   "outputs": [
    {
     "name": "stdout",
     "output_type": "stream",
     "text": [
      "Unique List:  [1, 2, 3, 4, 5]\n"
     ]
    }
   ],
   "source": [
    "x=[1,2,3,3,3,3,4,5]\n",
    "def fun(li1):\n",
    "    li2 = list(set(li1))\n",
    "    return li2\n",
    "result = fun(x)\n",
    "print(\"Unique List: \",result)"
   ]
  },
  {
   "cell_type": "markdown",
   "id": "778ad722",
   "metadata": {},
   "source": [
    "#### Task 5"
   ]
  },
  {
   "cell_type": "code",
   "execution_count": 13,
   "id": "5068c86c",
   "metadata": {},
   "outputs": [
    {
     "name": "stdout",
     "output_type": "stream",
     "text": [
      "No. of Upper-case characters: 3\n",
      "No. of Lower-case Characters:12\n"
     ]
    }
   ],
   "source": [
    "x='The quick Brow Fox'\n",
    "def fun2(s1):\n",
    "    upper = 0\n",
    "    lower = 0\n",
    "    for i in s1:\n",
    "        if i.isupper():\n",
    "            upper += 1\n",
    "        elif i == ' ':\n",
    "            continue\n",
    "        else:\n",
    "            lower += 1\n",
    "    print('No. of Upper-case characters: ' + str(upper) + '\\n' + 'No. of Lower-case Characters:' + str(lower))\n",
    "fun2(x)"
   ]
  },
  {
   "cell_type": "code",
   "execution_count": null,
   "id": "1d9b0a73",
   "metadata": {},
   "outputs": [],
   "source": []
  }
 ],
 "metadata": {
  "kernelspec": {
   "display_name": "Python 3 (ipykernel)",
   "language": "python",
   "name": "python3"
  },
  "language_info": {
   "codemirror_mode": {
    "name": "ipython",
    "version": 3
   },
   "file_extension": ".py",
   "mimetype": "text/x-python",
   "name": "python",
   "nbconvert_exporter": "python",
   "pygments_lexer": "ipython3",
   "version": "3.9.13"
  }
 },
 "nbformat": 4,
 "nbformat_minor": 5
}
